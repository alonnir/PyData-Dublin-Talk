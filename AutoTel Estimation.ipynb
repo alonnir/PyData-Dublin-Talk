{
 "cells": [
  {
   "cell_type": "markdown",
   "metadata": {},
   "source": [
    "#### About\n",
    "\n",
    "This notebook implements the solution to the [German Tank Problem](https://en.wikipedia.org/wiki/German_tank_problem) on shared cars in Tel-Aviv, as part of the [AutoTel scheme](https://en.globes.co.il/en/article-tel-aviv-launches-car-sharing-service-1001172399).\n",
    "\n",
    "The purpose of this notebook is to remind data professionals that sometimes even a simple 70 year old technique that can be implemented with pen and paper can get extremely good results."
   ]
  },
  {
   "cell_type": "code",
   "execution_count": 1,
   "metadata": {},
   "outputs": [],
   "source": [
    "from utils import tank               # A few helper methods to keep things tidy\n",
    "\n",
    "import pandas as pd\n",
    "import numpy as np\n",
    "import random\n",
    "\n",
    "import seaborn as sns; sns.set()\n",
    "import matplotlib.pyplot as plt\n",
    "%matplotlib inline"
   ]
  },
  {
   "cell_type": "code",
   "execution_count": 2,
   "metadata": {},
   "outputs": [
    {
     "name": "stdout",
     "output_type": "stream",
     "text": [
      "Fetching JSON from website...\n",
      "Live demo jitters...\n",
      "Fetched successfully!\n"
     ]
    }
   ],
   "source": [
    "# Get a JSON with raw data\n",
    "\n",
    "json_url = 'https://reserve.autotel.co.il/reservation/cars/ajax'\n",
    "backup_path = 'data/json_example.txt'\n",
    "\n",
    "json = tank.get_json(json_url, backup_path)"
   ]
  },
  {
   "cell_type": "code",
   "execution_count": 3,
   "metadata": {},
   "outputs": [
    {
     "name": "stdout",
     "output_type": "stream",
     "text": [
      "Number of cars: 229\n",
      "Max car id: 271\n",
      "Min car id: 1\n",
      "Max-Min id: 271\n"
     ]
    }
   ],
   "source": [
    "# Quick look\n",
    "tank.describe_data(json)"
   ]
  },
  {
   "cell_type": "code",
   "execution_count": 4,
   "metadata": {},
   "outputs": [
    {
     "data": {
      "text/plain": [
       "{'id': 25023582,\n",
       " 'parkingAddress': [{'languageId': 1,\n",
       "   'text': 'Isaac Harif St 40, Tel Aviv-Yafo, Israel'},\n",
       "  {'languageId': 0, 'text': 'אייזיק חריף 40, תל אביב יפו, ישראל'}],\n",
       " 'typeId': None,\n",
       " 'latitude': 32.03119,\n",
       " 'longitude': 34.74735,\n",
       " 'capacity': None,\n",
       " 'distance': 6.8,\n",
       " 'showMarker': True,\n",
       " 'activeCarHere': True,\n",
       " 'modelsList': [10],\n",
       " 'carsList': [192],\n",
       " 'inactive': False}"
      ]
     },
     "execution_count": 4,
     "metadata": {},
     "output_type": "execute_result"
    }
   ],
   "source": [
    "# Inspect one parking spot\n",
    "tank.find_example_spot(json)"
   ]
  },
  {
   "cell_type": "code",
   "execution_count": 5,
   "metadata": {},
   "outputs": [
    {
     "data": {
      "text/plain": [
       "{'isCached': False,\n",
       " 'cacheTime': None,\n",
       " 'carId': 192,\n",
       " 'nickname': '181',\n",
       " 'licencePlate': '63-864-81',\n",
       " 'modelId': 10,\n",
       " 'colorId': 0,\n",
       " 'optionList': [{'name': 'AUX input', 'typeId': 0}],\n",
       " 'longitude': 34.74735,\n",
       " 'latitude': 32.03119,\n",
       " 'hourlyRate': 0,\n",
       " 'dailyRate': 0,\n",
       " 'startDate': None,\n",
       " 'endDate': None,\n",
       " 'distance': 6.8,\n",
       " 'parkingAddress': 'Isaac Harif St 40, Tel Aviv-Yafo, Israel',\n",
       " 'carCategoryId': 0,\n",
       " 'carCategoryName': 'Basic / בייסיק',\n",
       " 'billingCarClassId': 'C1',\n",
       " 'maintenanceList': None,\n",
       " 'lastOdometer': 26144,\n",
       " 'lastFuelPercentage': 65,\n",
       " 'address': [{'languageId': 1,\n",
       "   'text': 'Isaac Harif St 40, Tel Aviv-Yafo, Israel'},\n",
       "  {'languageId': 0, 'text': 'אייזיק חריף 40, תל אביב יפו, ישראל'}],\n",
       " 'addressHe': 'אייזיק חריף 40, תל אביב יפו, ישראל',\n",
       " 'addressEn': 'Isaac Harif St 40, Tel Aviv-Yafo, Israel',\n",
       " 'discountTypeId': 0,\n",
       " 'discountTypeDesc': [{'languageId': 1, 'text': ''},\n",
       "  {'languageId': 0, 'text': ''}],\n",
       " 'model': 'i-10',\n",
       " 'manufacturer': 'Hyundai',\n",
       " 'status': None,\n",
       " 'color': 'White',\n",
       " 'image': 'modify/Hyundai-i10.png',\n",
       " 'image-bigger': 'modify/Hyundai-i10.png',\n",
       " 'data_map_image': '/images/Cars-Images/modify/Hyundai-i10.png',\n",
       " 'display': True,\n",
       " 'parkingId': 25023582}"
      ]
     },
     "execution_count": 5,
     "metadata": {},
     "output_type": "execute_result"
    }
   ],
   "source": [
    "# Inspect one car\n",
    "tank.find_example_car(json)"
   ]
  },
  {
   "cell_type": "code",
   "execution_count": null,
   "metadata": {},
   "outputs": [],
   "source": []
  },
  {
   "cell_type": "markdown",
   "metadata": {},
   "source": [
    "## Let's roll\n",
    "\n",
    "(get it?)\n",
    "\n",
    "\n",
    "\n",
    "# N ≈ m + (m-k) / k\n",
    "\n",
    "where:<br>\n",
    "m = largest number found<br>\n",
    "k = number of 'numbers' found"
   ]
  },
  {
   "cell_type": "code",
   "execution_count": 6,
   "metadata": {},
   "outputs": [],
   "source": [
    "def gen_carlist(json):\n",
    "    \"\"\"\n",
    "    Returns a list of all car sticker ids found in the JSON.\n",
    "    \"\"\"\n",
    "    l = []\n",
    "\n",
    "    for i in range(len(json['cars'])):\n",
    "        cars_list = json['cars'][i]['info']['carsList']\n",
    "        if len(cars_list)>0:\n",
    "            l.extend(cars_list)\n",
    "            \n",
    "    return l\n",
    "\n",
    "        \n",
    "        \n",
    "def gen_mvue(sublist):\n",
    "    \"\"\"\n",
    "    Returns the minimum-variance unbiased estimator for the number of items based on a list of observed ids in nature.\n",
    "    \"\"\"\n",
    "    m = max(sublist)\n",
    "    k = len(sublist)\n",
    "    return m + float(m-k)/k\n",
    "\n",
    "\n",
    "\n",
    "def run_seq(len_sublist, num_iter, full_list):\n",
    "    \"\"\"\n",
    "    Runs the procedure multiple times for a sublist of given length.\n",
    "    \n",
    "    len_sublist: size of the sublist to fetch in each iteration\n",
    "    num_iter: number of iterations to run\n",
    "    full_list: full list to sample from\n",
    "    \"\"\"\n",
    "    \n",
    "    df = pd.DataFrame(columns=['len_sublist', 'mvue'])\n",
    "    \n",
    "    for i in range(num_iter):\n",
    "        sublist = random.sample(full_list, len_sublist)\n",
    "        mvue = gen_mvue(sublist)\n",
    "        df.loc[i] = [len_sublist, mvue]\n",
    "        \n",
    "    return df\n",
    "\n"
   ]
  },
  {
   "cell_type": "code",
   "execution_count": 7,
   "metadata": {},
   "outputs": [
    {
     "name": "stdout",
     "output_type": "stream",
     "text": [
      "Calculalting for sublist with len: 20."
     ]
    }
   ],
   "source": [
    "# Run!\n",
    "\n",
    "l = gen_carlist(json)\n",
    "dfs = []\n",
    "\n",
    "for n in range(1,21):\n",
    "    print('\\rCalculalting for sublist with len: {}.'.format(n), end='')\n",
    "    df = run_seq(num_iter=100, len_sublist=n, full_list=l)\n",
    "    dfs.append(df)\n",
    "    \n",
    "full_df = pd.concat(dfs)"
   ]
  },
  {
   "cell_type": "code",
   "execution_count": 8,
   "metadata": {},
   "outputs": [
    {
     "data": {
      "image/png": "[encoded data removed]",
      "text/plain": [
       "<Figure size 1152x576 with 1 Axes>"
      ]
     },
     "metadata": {
      "needs_background": "light"
     },
     "output_type": "display_data"
    }
   ],
   "source": [
    "plt.figure(figsize=(16, 8))\n",
    "\n",
    "sns.lineplot(x=\"len_sublist\", y=\"mvue\", data=full_df)\n",
    "\n",
    "plt.hlines(y=273, xmin=1, xmax=20, linestyles='dotted')   # <=== 273 is the actual number\n",
    "\n",
    "plt.ylabel('MVUE', fontsize=16)\n",
    "plt.yticks(fontsize=16)\n",
    "\n",
    "plt.xlabel('Sublist length', fontsize=16)\n",
    "plt.xticks(range(1,21), fontsize=16);"
   ]
  },
  {
   "cell_type": "markdown",
   "metadata": {},
   "source": [
    "Notes:\n",
    "- The actual number is 273.\n",
    "- Arguably a more accurate approach would have been to ping the AutoTel website and grab a json for each iteration inspected. This is impractical for several reasons, one of them is that the data set takes long to change (as cars actually have to move).\n"
   ]
  },
  {
   "cell_type": "code",
   "execution_count": 9,
   "metadata": {},
   "outputs": [
    {
     "data": {
      "text/plain": [
       "541.0"
      ]
     },
     "execution_count": 9,
     "metadata": {},
     "output_type": "execute_result"
    }
   ],
   "source": [
    "full_df['mvue'].max()"
   ]
  },
  {
   "cell_type": "code",
   "execution_count": 10,
   "metadata": {},
   "outputs": [
    {
     "data": {
      "text/html": [
       "<div>\n",
       "<style scoped>\n",
       "    .dataframe tbody tr th:only-of-type {\n",
       "        vertical-align: middle;\n",
       "    }\n",
       "\n",
       "    .dataframe tbody tr th {\n",
       "        vertical-align: top;\n",
       "    }\n",
       "\n",
       "    .dataframe thead th {\n",
       "        text-align: right;\n",
       "    }\n",
       "</style>\n",
       "<table border=\"1\" class=\"dataframe\">\n",
       "  <thead>\n",
       "    <tr style=\"text-align: right;\">\n",
       "      <th></th>\n",
       "      <th>len_sublist</th>\n",
       "      <th>mvue</th>\n",
       "    </tr>\n",
       "  </thead>\n",
       "  <tbody>\n",
       "    <tr>\n",
       "      <th>0</th>\n",
       "      <td>1.0</td>\n",
       "      <td>77.0</td>\n",
       "    </tr>\n",
       "    <tr>\n",
       "      <th>1</th>\n",
       "      <td>1.0</td>\n",
       "      <td>221.0</td>\n",
       "    </tr>\n",
       "    <tr>\n",
       "      <th>2</th>\n",
       "      <td>1.0</td>\n",
       "      <td>207.0</td>\n",
       "    </tr>\n",
       "    <tr>\n",
       "      <th>3</th>\n",
       "      <td>1.0</td>\n",
       "      <td>383.0</td>\n",
       "    </tr>\n",
       "    <tr>\n",
       "      <th>4</th>\n",
       "      <td>1.0</td>\n",
       "      <td>147.0</td>\n",
       "    </tr>\n",
       "  </tbody>\n",
       "</table>\n",
       "</div>"
      ],
      "text/plain": [
       "   len_sublist   mvue\n",
       "0          1.0   77.0\n",
       "1          1.0  221.0\n",
       "2          1.0  207.0\n",
       "3          1.0  383.0\n",
       "4          1.0  147.0"
      ]
     },
     "execution_count": 10,
     "metadata": {},
     "output_type": "execute_result"
    }
   ],
   "source": [
    "full_df.head()"
   ]
  },
  {
   "cell_type": "code",
   "execution_count": 15,
   "metadata": {},
   "outputs": [
    {
     "data": {
      "text/html": [
       "<div>\n",
       "<style scoped>\n",
       "    .dataframe tbody tr th:only-of-type {\n",
       "        vertical-align: middle;\n",
       "    }\n",
       "\n",
       "    .dataframe tbody tr th {\n",
       "        vertical-align: top;\n",
       "    }\n",
       "\n",
       "    .dataframe thead th {\n",
       "        text-align: right;\n",
       "    }\n",
       "</style>\n",
       "<table border=\"1\" class=\"dataframe\">\n",
       "  <thead>\n",
       "    <tr style=\"text-align: right;\">\n",
       "      <th></th>\n",
       "      <th>mvue</th>\n",
       "    </tr>\n",
       "    <tr>\n",
       "      <th>len_sublist</th>\n",
       "      <th></th>\n",
       "    </tr>\n",
       "  </thead>\n",
       "  <tbody>\n",
       "    <tr>\n",
       "      <th>1.0</th>\n",
       "      <td>259.02</td>\n",
       "    </tr>\n",
       "    <tr>\n",
       "      <th>2.0</th>\n",
       "      <td>280.52</td>\n",
       "    </tr>\n",
       "    <tr>\n",
       "      <th>3.0</th>\n",
       "      <td>256.93</td>\n",
       "    </tr>\n",
       "    <tr>\n",
       "      <th>4.0</th>\n",
       "      <td>280.51</td>\n",
       "    </tr>\n",
       "    <tr>\n",
       "      <th>5.0</th>\n",
       "      <td>279.37</td>\n",
       "    </tr>\n",
       "    <tr>\n",
       "      <th>6.0</th>\n",
       "      <td>273.82</td>\n",
       "    </tr>\n",
       "    <tr>\n",
       "      <th>7.0</th>\n",
       "      <td>272.28</td>\n",
       "    </tr>\n",
       "    <tr>\n",
       "      <th>8.0</th>\n",
       "      <td>276.03</td>\n",
       "    </tr>\n",
       "    <tr>\n",
       "      <th>9.0</th>\n",
       "      <td>269.01</td>\n",
       "    </tr>\n",
       "    <tr>\n",
       "      <th>10.0</th>\n",
       "      <td>271.15</td>\n",
       "    </tr>\n",
       "    <tr>\n",
       "      <th>11.0</th>\n",
       "      <td>273.24</td>\n",
       "    </tr>\n",
       "    <tr>\n",
       "      <th>12.0</th>\n",
       "      <td>269.74</td>\n",
       "    </tr>\n",
       "    <tr>\n",
       "      <th>13.0</th>\n",
       "      <td>273.22</td>\n",
       "    </tr>\n",
       "    <tr>\n",
       "      <th>14.0</th>\n",
       "      <td>272.72</td>\n",
       "    </tr>\n",
       "    <tr>\n",
       "      <th>15.0</th>\n",
       "      <td>267.84</td>\n",
       "    </tr>\n",
       "    <tr>\n",
       "      <th>16.0</th>\n",
       "      <td>272.58</td>\n",
       "    </tr>\n",
       "    <tr>\n",
       "      <th>17.0</th>\n",
       "      <td>273.35</td>\n",
       "    </tr>\n",
       "    <tr>\n",
       "      <th>18.0</th>\n",
       "      <td>272.19</td>\n",
       "    </tr>\n",
       "    <tr>\n",
       "      <th>19.0</th>\n",
       "      <td>270.97</td>\n",
       "    </tr>\n",
       "    <tr>\n",
       "      <th>20.0</th>\n",
       "      <td>271.94</td>\n",
       "    </tr>\n",
       "  </tbody>\n",
       "</table>\n",
       "</div>"
      ],
      "text/plain": [
       "               mvue\n",
       "len_sublist        \n",
       "1.0          259.02\n",
       "2.0          280.52\n",
       "3.0          256.93\n",
       "4.0          280.51\n",
       "5.0          279.37\n",
       "6.0          273.82\n",
       "7.0          272.28\n",
       "8.0          276.03\n",
       "9.0          269.01\n",
       "10.0         271.15\n",
       "11.0         273.24\n",
       "12.0         269.74\n",
       "13.0         273.22\n",
       "14.0         272.72\n",
       "15.0         267.84\n",
       "16.0         272.58\n",
       "17.0         273.35\n",
       "18.0         272.19\n",
       "19.0         270.97\n",
       "20.0         271.94"
      ]
     },
     "execution_count": 15,
     "metadata": {},
     "output_type": "execute_result"
    }
   ],
   "source": [
    "round(pd.pivot_table(full_df, index='len_sublist', values='mvue', aggfunc=np.mean),2)"
   ]
  },
  {
   "cell_type": "markdown",
   "metadata": {},
   "source": [
    "---\n",
    "\n",
    "#### Bonus content\n",
    "\n",
    "Bayesian approaches ([wikipedia](https://en.wikipedia.org/wiki/German_tank_problem#Bayesian_analysis)) seem to be doing a fair job, but require a larger sample sizes to stabilise. \n"
   ]
  },
  {
   "cell_type": "code",
   "execution_count": 23,
   "metadata": {},
   "outputs": [
    {
     "name": "stdout",
     "output_type": "stream",
     "text": [
      "268-279\n"
     ]
    }
   ],
   "source": [
    "def go_bayes(l, k):\n",
    "    sl = random.sample(l, k)\n",
    "    m = max(sl)\n",
    "    sigma = (((k-1)*(m-1)*(m-k+1))/((k-3)*(k-2)**2))**.5\n",
    "    miu = (m-1)*(k-1)/(k-2)\n",
    "    print(\"{}-{}\".format(round(miu-sigma), round(miu+sigma)))\n",
    "    \n",
    "    \n",
    "go_bayes(l, 50)"
   ]
  },
  {
   "cell_type": "code",
   "execution_count": 24,
   "metadata": {},
   "outputs": [
    {
     "name": "stdout",
     "output_type": "stream",
     "text": [
      "278\n"
     ]
    }
   ],
   "source": [
    "from math import log\n",
    "\n",
    "\n",
    "def go_bayes_median(l, k):\n",
    "    sl = random.sample(l, k)\n",
    "    m = max(sl)\n",
    "    n = m + m*log(2)/(k-1)\n",
    "    print(round(n))\n",
    "\n",
    "    \n",
    "go_bayes_median(l, 25)"
   ]
  },
  {
   "cell_type": "code",
   "execution_count": null,
   "metadata": {},
   "outputs": [],
   "source": []
  }
 ],
 "metadata": {
  "kernelspec": {
   "display_name": "Python 3",
   "language": "python",
   "name": "python3"
  },
  "language_info": {
   "codemirror_mode": {
    "name": "ipython",
    "version": 3
   },
   "file_extension": ".py",
   "mimetype": "text/x-python",
   "name": "python",
   "nbconvert_exporter": "python",
   "pygments_lexer": "ipython3",
   "version": "3.6.8"
  }
 },
 "nbformat": 4,
 "nbformat_minor": 4
}
